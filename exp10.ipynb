import numpy as np
import matplotlib.pyplot as plt
import seaborn as sns
from sklearn.datasets import load_breast_cancer
from sklearn.preprocessing import StandardScaler
from sklearn.decomposition import PCA
from sklearn.cluster import KMeans
from sklearn.metrics import silhouette_score, confusion_matrix

# Load and scale data
data = load_breast_cancer()
X, y = StandardScaler().fit_transform(data.data), data.target

# K-Means clustering
kmeans = KMeans(n_clusters=2, random_state=42)
y_kmeans = kmeans.fit_predict(X)

# PCA for visualization
X_pca = PCA(n_components=2).fit_transform(X)
plt.figure(figsize=(8,6))
plt.scatter(X_pca[:, 0], X_pca[:, 1], c=y_kmeans, cmap='viridis', alpha=0.7)
plt.scatter(kmeans.cluster_centers_[:, 0], kmeans.cluster_centers_[:, 1], s=300, c='red', marker='X', label='Centroids')
plt.title('K-Means Clustering (PCA-reduced)'), plt.xlabel('PC1'), plt.ylabel('PC2'), plt.legend()
plt.show()

# Evaluation
print(f"Silhouette Score: {silhouette_score(X, y_kmeans):.4f}")
sns.heatmap(confusion_matrix(y, y_kmeans), annot=True, fmt='d', cmap='Blues',
            xticklabels=data.target_names, yticklabels=data.target_names)
plt.title('Confusion Matrix')
plt.show()

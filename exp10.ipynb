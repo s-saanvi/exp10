import numpy as np, matplotlib.pyplot as plt, seaborn as sns
from sklearn.datasets import load_breast_cancer
from sklearn.preprocessing import StandardScaler
from sklearn.decomposition import PCA
from sklearn.cluster import KMeans
from sklearn.metrics import silhouette_score, confusion_matrix

X, y = StandardScaler().fit_transform(load_breast_cancer().data), load_breast_cancer().target
kmeans = KMeans(n_clusters=2, random_state=42).fit(X)
y_kmeans, pca = kmeans.labels_, PCA(n_components=2).fit_transform(X)
plt.figure(figsize=(8,6))
plt.scatter(*pca.T, c=y_kmeans, cmap='viridis', alpha=0.7)
plt.scatter(*kmeans.cluster_centers_[:, :2].T, c='red', s=300, marker='X', label='Centroids')
plt.title('K-Means (PCA)'), plt.legend(), plt.show()

print(f"Silhouette: {silhouette_score(X, y_kmeans):.4f}")
sns.heatmap(confusion_matrix(y, y_kmeans), annot=True, fmt='d', cmap='Blues')
plt.title('Confusion Matrix'), plt.show()
